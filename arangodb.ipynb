{
 "cells": [
  {
   "attachments": {},
   "cell_type": "markdown",
   "metadata": {},
   "source": [
    "### 1 Preparação do ambiente"
   ]
  },
  {
   "cell_type": "code",
   "execution_count": 1,
   "metadata": {},
   "outputs": [
    {
     "name": "stdout",
     "output_type": "stream",
     "text": [
      "Plataforma usada no experimento\n",
      "========================================\n",
      "Jupyter Notebook no VSCode\n",
      "PRocessaor: Intel64 Family 6 Model 142 Stepping 10, GenuineIntel\n",
      "SO: Windows\n"
     ]
    }
   ],
   "source": [
    "import platform\n",
    "print('Plataforma usada no experimento')\n",
    "print('='*40)\n",
    "\n",
    "print('Jupyter Notebook no VSCode')\n",
    "print(f'Processaor: {platform.processor()}')\n",
    "print(f'SO: {platform.system()}')"
   ]
  },
  {
   "cell_type": "code",
   "execution_count": 2,
   "metadata": {},
   "outputs": [],
   "source": [
    "%%capture\n",
    "!git clone https://github.com/joerg84/ArandoDBUniversity.git\n",
    "!rsync -av ArangoDBUniversity/ ./ --exclude.git\n",
    "!pip3 install pyarango \n",
    "!pip3 install \"python-arango>=5.0\""
   ]
  },
  {
   "cell_type": "code",
   "execution_count": 4,
   "metadata": {},
   "outputs": [],
   "source": [
    "import json\n",
    "import requests\n",
    "import sys\n",
    "#import oasis\n",
    "import time \n",
    "\n",
    "from pyArango.connection import *\n",
    "conn = Connection(username=\"root\", password=\"1234\")"
   ]
  },
  {
   "attachments": {},
   "cell_type": "markdown",
   "metadata": {},
   "source": [
    "### Criando e abrindo bancos de dados"
   ]
  },
  {
   "attachments": {},
   "cell_type": "markdown",
   "metadata": {},
   "source": [
    "Com uma conexão com o ArangoDB Server, você pode abrir ou criar um banco de dados no servidor e começar a operar nele. O `createDatabase()` método na conexão do servidor lida com as duas operações, retornando um `Database` instância."
   ]
  },
  {
   "cell_type": "code",
   "execution_count": 6,
   "metadata": {},
   "outputs": [
    {
     "ename": "CreationError",
     "evalue": "duplicate database name 'school'. Errors: b'{\"code\":409,\"error\":true,\"errorMessage\":\"duplicate database name \\'school\\'\",\"errorNum\":1207}'",
     "output_type": "error",
     "traceback": [
      "\u001b[1;31m---------------------------------------------------------------------------\u001b[0m",
      "\u001b[1;31mCreationError\u001b[0m                             Traceback (most recent call last)",
      "\u001b[1;32mc:\\Users\\rayan\\Documents\\python-with-arangodb\\arangodb.ipynb Cell 7\u001b[0m in \u001b[0;36m1\n\u001b[1;32m----> <a href='vscode-notebook-cell:/c%3A/Users/rayan/Documents/python-with-arangodb/arangodb.ipynb#W6sZmlsZQ%3D%3D?line=0'>1</a>\u001b[0m db \u001b[39m=\u001b[39m conn\u001b[39m.\u001b[39mcreateDatabase(name\u001b[39m=\u001b[39m\u001b[39m\"\u001b[39m\u001b[39mschool\u001b[39m\u001b[39m\"\u001b[39m)\n",
      "File \u001b[1;32mc:\\Users\\rayan\\AppData\\Local\\Programs\\Python\\Python310\\lib\\site-packages\\pyArango\\connection.py:361\u001b[0m, in \u001b[0;36mConnection.createDatabase\u001b[1;34m(self, name, **dbArgs)\u001b[0m\n\u001b[0;32m    359\u001b[0m     \u001b[39mreturn\u001b[39;00m \u001b[39mself\u001b[39m\u001b[39m.\u001b[39mdatabases[name]\n\u001b[0;32m    360\u001b[0m \u001b[39melse\u001b[39;00m:\n\u001b[1;32m--> 361\u001b[0m     \u001b[39mraise\u001b[39;00m CreationError(data[\u001b[39m\"\u001b[39m\u001b[39merrorMessage\u001b[39m\u001b[39m\"\u001b[39m], r\u001b[39m.\u001b[39mcontent)\n",
      "\u001b[1;31mCreationError\u001b[0m: duplicate database name 'school'. Errors: b'{\"code\":409,\"error\":true,\"errorMessage\":\"duplicate database name \\'school\\'\",\"errorNum\":1207}'"
     ]
    }
   ],
   "source": [
    "db = conn.createDatabase(name=\"school\")"
   ]
  },
  {
   "attachments": {},
   "cell_type": "markdown",
   "metadata": {},
   "source": [
    "Quando o `school` o banco de dados não existe, o pyArango o cria na conexão do servidor. Quando existe, ele tenta abrir o banco de dados. Você também pode abrir um banco de dados existente usando seu nome como uma chave na conexão do servidor. Por exemplo,"
   ]
  },
  {
   "cell_type": "code",
   "execution_count": 7,
   "metadata": {},
   "outputs": [
    {
     "data": {
      "text/plain": [
       "ArangoDB database: school"
      ]
     },
     "execution_count": 7,
     "metadata": {},
     "output_type": "execute_result"
    }
   ],
   "source": [
    "db = conn[\"school\"]\n",
    "db"
   ]
  },
  {
   "cell_type": "markdown",
   "metadata": {},
   "source": [
    "### Criando coleções"
   ]
  },
  {
   "attachments": {},
   "cell_type": "markdown",
   "metadata": {},
   "source": [
    "O ArangoDB agrupa documentos e arestas em coleções. Isso é semelhante ao conceito de tabelas nos bancos de dados relacionais, mas com a principal diferença de que as coleções são sem esquema.\n",
    "\n",
    "No pyArango, você pode criar uma coleção chamando o método `createCollection()` em um determinado banco de dados. Por exemplo, na seção acima, você criou um banco de dados `school`. Você pode querer uma coleção nesse banco de dados para os alunos."
   ]
  },
  {
   "cell_type": "code",
   "execution_count": 9,
   "metadata": {},
   "outputs": [
    {
     "data": {
      "text/plain": [
       "ArangoDB collection name: Students, id: 1885, type: document, status: loaded"
      ]
     },
     "execution_count": 9,
     "metadata": {},
     "output_type": "execute_result"
    }
   ],
   "source": [
    "studentsCollection = db.createCollection(name=\"Students\")\n",
    "db[\"Students\"]"
   ]
  },
  {
   "attachments": {},
   "cell_type": "markdown",
   "metadata": {},
   "source": [
    "### Criando documentos"
   ]
  },
  {
   "attachments": {},
   "cell_type": "markdown",
   "metadata": {},
   "source": [
    "Com o banco de dados e a configuração da coleção, você pode começar a adicionar dados a eles. Continuando a comparação com os bancos de dados relacionais, onde uma coleção é uma tabela, um documento é uma linha nessa tabela. Ao contrário das linhas, no entanto, os documentos são sem esquema. Você pode incluir qualquer arranjo de valores necessário para sua aplicação."
   ]
  },
  {
   "cell_type": "code",
   "execution_count": 10,
   "metadata": {},
   "outputs": [
    {
     "data": {
      "text/plain": [
       "ArangoDoc '_id: None, _key: None, _rev: None': <store: {'firstname': 'Emily', 'lastname': 'Bronte'}>"
      ]
     },
     "execution_count": 10,
     "metadata": {},
     "output_type": "execute_result"
    }
   ],
   "source": [
    "doc1 = studentsCollection.createDocument()\n",
    "doc1[\"name\"] = \"John Smith\"\n",
    "doc1\n",
    "doc2 = studentsCollection.createDocument()\n",
    "doc2[\"firstname\"] = \"Emily\"\n",
    "doc2[\"lastname\"] = \"Bronte\"\n",
    "doc2"
   ]
  },
  {
   "attachments": {},
   "cell_type": "markdown",
   "metadata": {},
   "source": [
    "O documento mostra sua `_id` como *“Nenhum”* porque você ainda não o salvou no ArangoDB. Isso significa que a variável existe no seu código Python, mas não no banco de dados. Construções ArangoDB `_id` valores combinando o nome da coleção com o `_key` valor. Ele também lida com a tarefa para você, você só precisa definir a chave e salvar o documento."
   ]
  },
  {
   "cell_type": "code",
   "execution_count": 11,
   "metadata": {},
   "outputs": [
    {
     "data": {
      "text/plain": [
       "ArangoDoc '_id: Students/johnsmith, _key: johnsmith, _rev: _f3qcavu---': <store: {'name': 'John Smith'}>"
      ]
     },
     "execution_count": 11,
     "metadata": {},
     "output_type": "execute_result"
    }
   ],
   "source": [
    "doc1._key = \"johnsmith\"\n",
    "doc1.save()\n",
    "doc1"
   ]
  },
  {
   "attachments": {},
   "cell_type": "markdown",
   "metadata": {},
   "source": [
    "Em vez de inserir e salvar os dados para todos os alunos manualmente, convém inserir os dados por meio de um loop, em vez de chamadas individuais. Por exemplo,"
   ]
  },
  {
   "cell_type": "code",
   "execution_count": 14,
   "metadata": {},
   "outputs": [
    {
     "ename": "UniqueConstrainViolation",
     "evalue": "unique constraint violated - in index primary of type primary over '_key'; conflicting key: oscarwilde. Errors: {'code': 409, 'error': True, 'errorMessage': \"unique constraint violated - in index primary of type primary over '_key'; conflicting key: oscarwilde\", 'errorNum': 1210}",
     "output_type": "error",
     "traceback": [
      "\u001b[1;31m---------------------------------------------------------------------------\u001b[0m",
      "\u001b[1;31mUniqueConstrainViolation\u001b[0m                  Traceback (most recent call last)",
      "\u001b[1;32mc:\\Users\\rayan\\Documents\\python-with-arangodb\\arangodb.ipynb Cell 19\u001b[0m in \u001b[0;36m1\n\u001b[0;32m      <a href='vscode-notebook-cell:/c%3A/Users/rayan/Documents/python-with-arangodb/arangodb.ipynb#X30sZmlsZQ%3D%3D?line=8'>9</a>\u001b[0m doc[\u001b[39m'\u001b[39m\u001b[39myear\u001b[39m\u001b[39m'\u001b[39m] \u001b[39m=\u001b[39m \u001b[39m2017\u001b[39m\n\u001b[0;32m     <a href='vscode-notebook-cell:/c%3A/Users/rayan/Documents/python-with-arangodb/arangodb.ipynb#X30sZmlsZQ%3D%3D?line=9'>10</a>\u001b[0m doc\u001b[39m.\u001b[39m_key \u001b[39m=\u001b[39m \u001b[39m'\u001b[39m\u001b[39m'\u001b[39m\u001b[39m.\u001b[39mjoin([first, last])\u001b[39m.\u001b[39mlower() \n\u001b[1;32m---> <a href='vscode-notebook-cell:/c%3A/Users/rayan/Documents/python-with-arangodb/arangodb.ipynb#X30sZmlsZQ%3D%3D?line=10'>11</a>\u001b[0m doc\u001b[39m.\u001b[39msave()\n",
      "File \u001b[1;32mc:\\Users\\rayan\\AppData\\Local\\Programs\\Python\\Python310\\lib\\site-packages\\pyArango\\document.py:268\u001b[0m, in \u001b[0;36mDocument.save\u001b[1;34m(self, waitForSync, **docArgs)\u001b[0m\n\u001b[0;32m    263\u001b[0m \u001b[39m\"\"\"Saves the document to the database by either performing a POST (for a new document) or a PUT (complete document overwrite).\u001b[39;00m\n\u001b[0;32m    264\u001b[0m \u001b[39mIf you want to only update the modified fields use the .patch() function.\u001b[39;00m\n\u001b[0;32m    265\u001b[0m \u001b[39mUse docArgs to put things such as 'waitForSync = True' (for a full list cf ArangoDB's doc).\u001b[39;00m\n\u001b[0;32m    266\u001b[0m \u001b[39mIt will only trigger a saving of the document if it has been modified since the last save. If you want to force the saving you can use forceSave()\"\"\"\u001b[39;00m\n\u001b[0;32m    267\u001b[0m payload \u001b[39m=\u001b[39m \u001b[39mself\u001b[39m\u001b[39m.\u001b[39m_store\u001b[39m.\u001b[39mgetStore()\n\u001b[1;32m--> 268\u001b[0m \u001b[39mself\u001b[39m\u001b[39m.\u001b[39m_save(payload, waitForSync \u001b[39m=\u001b[39m \u001b[39mFalse\u001b[39;00m, \u001b[39m*\u001b[39m\u001b[39m*\u001b[39mdocArgs)\n",
      "File \u001b[1;32mc:\\Users\\rayan\\AppData\\Local\\Programs\\Python\\Python310\\lib\\site-packages\\pyArango\\document.py:309\u001b[0m, in \u001b[0;36mDocument._save\u001b[1;34m(self, payload, waitForSync, **docArgs)\u001b[0m\n\u001b[0;32m    307\u001b[0m \u001b[39melse\u001b[39;00m:\n\u001b[0;32m    308\u001b[0m     \u001b[39mif\u001b[39;00m data[\u001b[39m\"\u001b[39m\u001b[39merrorNum\u001b[39m\u001b[39m\"\u001b[39m] \u001b[39m==\u001b[39m \u001b[39m1210\u001b[39m:\n\u001b[1;32m--> 309\u001b[0m         \u001b[39mraise\u001b[39;00m UniqueConstrainViolation(data[\u001b[39m'\u001b[39m\u001b[39merrorMessage\u001b[39m\u001b[39m'\u001b[39m], data)\n\u001b[0;32m    310\u001b[0m     \u001b[39melse\u001b[39;00m:\n\u001b[0;32m    311\u001b[0m         \u001b[39mraise\u001b[39;00m CreationError(data[\u001b[39m'\u001b[39m\u001b[39merrorMessage\u001b[39m\u001b[39m'\u001b[39m], data)\n",
      "\u001b[1;31mUniqueConstrainViolation\u001b[0m: unique constraint violated - in index primary of type primary over '_key'; conflicting key: oscarwilde. Errors: {'code': 409, 'error': True, 'errorMessage': \"unique constraint violated - in index primary of type primary over '_key'; conflicting key: oscarwilde\", 'errorNum': 1210}"
     ]
    }
   ],
   "source": [
    "students = [('Oscar', 'Wilde', 3.5), ('Thomas', 'Hobbes', 3.2), \n",
    "('Mark', 'Twain', 3.0), ('Kate', 'Chopin', 3.8), ('Fyodor', 'Dostoevsky', 3.1), \n",
    "('Jane', 'Austen',3.4), ('Mary', 'Wollstonecraft', 3.7), ('Percy', 'Shelley', 3.5), \n",
    "('William', 'Faulkner', 3.8), ('Charlotte', 'Bronte', 3.0)]\n",
    "for (first, last, gpa) in students:\n",
    "    doc = studentsCollection.createDocument()\n",
    "    doc['name'] = \"%s %s\" % (first, last)\n",
    "    doc['gpa'] = gpa \n",
    "    doc['year'] = 2017\n",
    "    doc._key = ''.join([first, last]).lower() \n",
    "    doc.save()"
   ]
  },
  {
   "attachments": {},
   "cell_type": "markdown",
   "metadata": {},
   "source": [
    "### Leitura de documentos"
   ]
  },
  {
   "attachments": {},
   "cell_type": "markdown",
   "metadata": {},
   "source": [
    "Eventualmente, você precisará acessar documentos no banco de dados. A maneira mais fácil de fazer isso é com o `_key` valor.\n",
    "\n",
    "Por exemplo, o banco de dados da escola agora tem vários alunos. Imagine-o como parte de um aplicativo maior, com mais dados disponíveis sobre cada aluno e você gostaria de verificar o GPA de um aluno em particular:"
   ]
  },
  {
   "cell_type": "code",
   "execution_count": 15,
   "metadata": {},
   "outputs": [
    {
     "name": "stdout",
     "output_type": "stream",
     "text": [
      "Student: Kate Chopin\n",
      "GPA:     3.8\n"
     ]
    }
   ],
   "source": [
    "def report_gpa(document):\n",
    "    print(\"Student: %s\" % document['name'])\n",
    "    print(\"GPA:     %s\" % document['gpa'])\n",
    "kate = studentsCollection['katechopin']\n",
    "report_gpa(kate)"
   ]
  },
  {
   "attachments": {},
   "cell_type": "markdown",
   "metadata": {},
   "source": [
    "### Atualizando documentos"
   ]
  },
  {
   "attachments": {},
   "cell_type": "markdown",
   "metadata": {},
   "source": [
    "Ao ler um documento do ArangoDB em seu aplicativo, você cria uma cópia local do documento. Você pode operar o documento, fazendo as alterações que desejar e depois enviar os resultados para o banco de dados usando o método `save()`.\n",
    "\n",
    "Por exemplo, a cada semestre, à medida que as notas finais são provenientes de suas aulas, você precisa atualizar as médias de notas dos alunos no banco de dados. Como isso acontece com frequência, convém criar uma função específica para lidar com a atualização:"
   ]
  },
  {
   "cell_type": "code",
   "execution_count": 16,
   "metadata": {},
   "outputs": [],
   "source": [
    "def update_gpa(key, new_gpa):\n",
    "    doc = studentsCollection[key]\n",
    "    doc['gpa'] = new_gpa\n",
    "    doc.save()"
   ]
  },
  {
   "attachments": {},
   "cell_type": "markdown",
   "metadata": {},
   "source": [
    "### Listando documentos"
   ]
  },
  {
   "attachments": {},
   "cell_type": "markdown",
   "metadata": {},
   "source": [
    "Ocasionalmente, convém operar em todos os documentos em uma determinada coleção. Usando o método `fetchAll()`, você pode recuperar e iterar em uma lista de documentos. Por exemplo, digamos que é o final do semestre e você deseja saber quais alunos têm uma média de notas acima de 3,5:"
   ]
  },
  {
   "cell_type": "code",
   "execution_count": 19,
   "metadata": {},
   "outputs": [
    {
     "name": "stdout",
     "output_type": "stream",
     "text": [
      "Top Soring Students:\n",
      "- Oscar Wilde\n",
      "- Kate Chopin\n",
      "- Mary Wollstonecraft\n",
      "- Percy Shelley\n",
      "- William Faulkner\n"
     ]
    }
   ],
   "source": [
    "def top_scores(col, gpa):\n",
    "    print(\"Top Soring Students:\")\n",
    "    for student in col.fetchAll():\n",
    "       if student['gpa'] is not None and student['gpa'] >= gpa:\n",
    "          print(\"- %s\" % student['name'])\n",
    "top_scores(studentsCollection, 3.5)"
   ]
  },
  {
   "attachments": {},
   "cell_type": "markdown",
   "metadata": {},
   "source": [
    "### Removendo documentos"
   ]
  },
  {
   "attachments": {},
   "cell_type": "markdown",
   "metadata": {},
   "source": [
    "Eventualmente, convém remover documentos do banco de dados. Isso pode ser realizado com o método `delete()`. Por exemplo, diga que o estudante Thomas Hobbes decidiu se mudar para outra cidade:"
   ]
  },
  {
   "cell_type": "code",
   "execution_count": 20,
   "metadata": {},
   "outputs": [
    {
     "ename": "DocumentNotFoundError",
     "evalue": "Unable to find document with _key: thomashobbes. Errors: {'code': 404, 'error': True, 'errorMessage': 'document not found', 'errorNum': 1202}",
     "output_type": "error",
     "traceback": [
      "\u001b[1;31m---------------------------------------------------------------------------\u001b[0m",
      "\u001b[1;31mDocumentNotFoundError\u001b[0m                     Traceback (most recent call last)",
      "\u001b[1;32mc:\\Users\\rayan\\Documents\\python-with-arangodb\\arangodb.ipynb Cell 31\u001b[0m in \u001b[0;36m3\n\u001b[0;32m      <a href='vscode-notebook-cell:/c%3A/Users/rayan/Documents/python-with-arangodb/arangodb.ipynb#X50sZmlsZQ%3D%3D?line=0'>1</a>\u001b[0m tom \u001b[39m=\u001b[39m studentsCollection[\u001b[39m\"\u001b[39m\u001b[39mthomashobbes\u001b[39m\u001b[39m\"\u001b[39m]\n\u001b[0;32m      <a href='vscode-notebook-cell:/c%3A/Users/rayan/Documents/python-with-arangodb/arangodb.ipynb#X50sZmlsZQ%3D%3D?line=1'>2</a>\u001b[0m tom\u001b[39m.\u001b[39mdelete()\n\u001b[1;32m----> <a href='vscode-notebook-cell:/c%3A/Users/rayan/Documents/python-with-arangodb/arangodb.ipynb#X50sZmlsZQ%3D%3D?line=2'>3</a>\u001b[0m studentsCollection[\u001b[39m\"\u001b[39m\u001b[39mthomashobbes\u001b[39m\u001b[39m\"\u001b[39m]\n",
      "File \u001b[1;32mc:\\Users\\rayan\\AppData\\Local\\Programs\\Python\\Python310\\lib\\site-packages\\pyArango\\collection.py:837\u001b[0m, in \u001b[0;36mCollection.__getitem__\u001b[1;34m(self, key)\u001b[0m\n\u001b[0;32m    835\u001b[0m \u001b[39m\"\"\"returns a document from the cache. If it's not there, fetches it from the db and caches it first. If the cache is not activated this is equivalent to fetchDocument( rawResults=False)\"\"\"\u001b[39;00m\n\u001b[0;32m    836\u001b[0m \u001b[39mif\u001b[39;00m \u001b[39mself\u001b[39m\u001b[39m.\u001b[39mdocumentCache \u001b[39mis\u001b[39;00m \u001b[39mNone\u001b[39;00m:\n\u001b[1;32m--> 837\u001b[0m     \u001b[39mreturn\u001b[39;00m \u001b[39mself\u001b[39;49m\u001b[39m.\u001b[39;49mfetchDocument(key, rawResults \u001b[39m=\u001b[39;49m \u001b[39mFalse\u001b[39;49;00m)\n\u001b[0;32m    838\u001b[0m \u001b[39mtry\u001b[39;00m:\n\u001b[0;32m    839\u001b[0m     \u001b[39mreturn\u001b[39;00m \u001b[39mself\u001b[39m\u001b[39m.\u001b[39mdocumentCache[key]\n",
      "File \u001b[1;32mc:\\Users\\rayan\\AppData\\Local\\Programs\\Python\\Python310\\lib\\site-packages\\pyArango\\collection.py:679\u001b[0m, in \u001b[0;36mCollection.fetchDocument\u001b[1;34m(self, key, rawResults, rev)\u001b[0m\n\u001b[0;32m    677\u001b[0m     \u001b[39mreturn\u001b[39;00m \u001b[39mself\u001b[39m\u001b[39m.\u001b[39mdocumentClass(\u001b[39mself\u001b[39m, r\u001b[39m.\u001b[39mjson(), on_load_validation\u001b[39m=\u001b[39m\u001b[39mself\u001b[39m\u001b[39m.\u001b[39m_validation[\u001b[39m\"\u001b[39m\u001b[39mon_load\u001b[39m\u001b[39m\"\u001b[39m])\n\u001b[0;32m    678\u001b[0m \u001b[39melif\u001b[39;00m r\u001b[39m.\u001b[39mstatus_code \u001b[39m==\u001b[39m \u001b[39m404\u001b[39m :\n\u001b[1;32m--> 679\u001b[0m     \u001b[39mraise\u001b[39;00m DocumentNotFoundError(\u001b[39m\"\u001b[39m\u001b[39mUnable to find document with _key: \u001b[39m\u001b[39m%s\u001b[39;00m\u001b[39m\"\u001b[39m \u001b[39m%\u001b[39m key, r\u001b[39m.\u001b[39mjson())\n\u001b[0;32m    680\u001b[0m \u001b[39mraise\u001b[39;00m DocumentNotFoundError(\u001b[39m\"\u001b[39m\u001b[39mUnable to find document with _key: \u001b[39m\u001b[39m%s\u001b[39;00m\u001b[39m, response: \u001b[39m\u001b[39m%s\u001b[39;00m\u001b[39m\"\u001b[39m \u001b[39m%\u001b[39m (key, r\u001b[39m.\u001b[39mjson()), r\u001b[39m.\u001b[39mjson())\n",
      "\u001b[1;31mDocumentNotFoundError\u001b[0m: Unable to find document with _key: thomashobbes. Errors: {'code': 404, 'error': True, 'errorMessage': 'document not found', 'errorNum': 1202}"
     ]
    }
   ],
   "source": [
    "tom = studentsCollection[\"thomashobbes\"]\n",
    "tom.delete()\n",
    "studentsCollection[\"thomashobbes\"]"
   ]
  },
  {
   "attachments": {},
   "cell_type": "markdown",
   "metadata": {},
   "source": [
    "### Uso AQL"
   ]
  },
  {
   "attachments": {},
   "cell_type": "markdown",
   "metadata": {},
   "source": [
    "Além dos métodos Python mostrados acima, o ArangoDB também fornece uma linguagem de consulta, ( chamada AQL ), para recuperar e modificar documentos no banco de dados. No pyArango, você pode emitir essas consultas usando o `AQLQuery()` método.\n",
    "\n",
    "Por exemplo, diga que deseja recuperar as chaves de todos os documentos no ArangoDB:"
   ]
  },
  {
   "attachments": {},
   "cell_type": "markdown",
   "metadata": {},
   "source": [
    "No exemplo, o `AQLQuery()` O método toma a consulta AQL como argumento, com duas opções adicionais:\n",
    "\n",
    "- `rawResults` Define se você deseja que os resultados reais sejam retornados pela consulta.\n",
    "- `batchSize` Quando a consulta retorna mais resultados que o valor fornecido, o driver pyArango solicita automaticamente novos lotes.\n",
    "\n",
    "Lembre-se de que a ordem dos documentos não é garantida. Caso você precise dos resultados em uma ordem específica, adicione uma cláusula de classificação à consulta AQL."
   ]
  },
  {
   "cell_type": "code",
   "execution_count": 21,
   "metadata": {},
   "outputs": [
    {
     "name": "stdout",
     "output_type": "stream",
     "text": [
      "charlottebronte\n",
      "fyodordostoevsky\n",
      "janeausten\n",
      "johnsmith\n",
      "katechopin\n",
      "marktwain\n",
      "marywollstonecraft\n",
      "oscarwilde\n",
      "percyshelley\n",
      "williamfaulkner\n"
     ]
    }
   ],
   "source": [
    "aql = \"FOR x IN Students RETURN x._key\"\n",
    "queryResult = db.AQLQuery(aql, rawResults=True, batchSize=100)\n",
    "for key in queryResult:\n",
    "    print(key)"
   ]
  },
  {
   "attachments": {},
   "cell_type": "markdown",
   "metadata": {},
   "source": [
    "### Inserindo documentos com AQL"
   ]
  },
  {
   "attachments": {},
   "cell_type": "markdown",
   "metadata": {},
   "source": [
    "Semelhante à criação de documentos acima, você também pode inserir documentos no ArangoDB usando o AQL. Isso é feito com uma declaração `INSERT` usando o `bindVars` opção para o método `AQLQuery()`."
   ]
  },
  {
   "cell_type": "code",
   "execution_count": 8,
   "metadata": {},
   "outputs": [],
   "source": [
    "doc = {'_key': 'denisdiderot', 'name': 'Denis Diderot', 'gpa': 3.7}\n",
    "bind = {\"doc\": doc}\n",
    "aql = \"INSERT @doc INTO Students LET newDoc = NEW RETURN newDoc\"\n",
    "queryResult = db.AQLQuery(aql, bindVars=bind)"
   ]
  },
  {
   "attachments": {},
   "cell_type": "markdown",
   "metadata": {},
   "source": [
    "Usando o `RETURN newDoc` define o novo documento adicionado ao banco de dados como o valor de retorno. Ou seja, agora você pode ver os resultados chamando:"
   ]
  },
  {
   "cell_type": "code",
   "execution_count": 9,
   "metadata": {},
   "outputs": [
    {
     "data": {
      "text/plain": [
       "ArangoDoc '_id: Students/denisdiderot, _key: denisdiderot, _rev: _f5pRzj2---': <store: {'name': 'Denis Diderot', 'gpa': 3.7}>"
      ]
     },
     "execution_count": 9,
     "metadata": {},
     "output_type": "execute_result"
    }
   ],
   "source": [
    "queryResult[0]"
   ]
  },
  {
   "cell_type": "markdown",
   "metadata": {},
   "source": [
    "### Atualizando documentos com AQL"
   ]
  },
  {
   "attachments": {},
   "cell_type": "markdown",
   "metadata": {},
   "source": [
    "Nos casos em que um documento já existe no seu banco de dados e você deseja modificar os dados nesse documento, você pode usar a declaração `UPDATE`. Por exemplo, diga que você recebe a média atualizada de notas dos alunos em um arquivo CSV.\n",
    "\n",
    "Primeiro, verifique o GPA de um dos alunos para ver o valor antigo:"
   ]
  },
  {
   "cell_type": "code",
   "execution_count": 11,
   "metadata": {},
   "outputs": [
    {
     "data": {
      "text/plain": [
       "ArangoDoc '_id: Students/katechopin, _key: katechopin, _rev: _f3sm6De---': <store: {'name': 'Kate Chopin', 'gpa': 3.8, 'year': 2017}>"
      ]
     },
     "execution_count": 11,
     "metadata": {},
     "output_type": "execute_result"
    }
   ],
   "source": [
    "db[\"Students\"][\"katechopin\"]"
   ]
  },
  {
   "cell_type": "code",
   "execution_count": null,
   "metadata": {},
   "outputs": [],
   "source": [
    "with open(\"grades.csv\", \"r\") as f:\n",
    "    grades = f.read().split(',')\n",
    "for key,gpa in grades.items():\n",
    "    doc = {\"gpa\": float(gpa)}\n",
    "    bind = {\"doc\": doc, \"key\": key}\n",
    "    aql = \"UPDATE @key WITH @doc IN Stdents LET pdated NEW RETRN updated\"\n",
    "    db.AQLQuery(aql, bindVars=bind)"
   ]
  },
  {
   "attachments": {},
   "cell_type": "markdown",
   "metadata": {},
   "source": [
    "Por fim, verifique o GPA do aluno novamente."
   ]
  },
  {
   "cell_type": "code",
   "execution_count": 16,
   "metadata": {},
   "outputs": [
    {
     "data": {
      "text/plain": [
       "ArangoDoc '_id: Students/katechopin, _key: katechopin, _rev: _f3sm6De---': <store: {'name': 'Kate Chopin', 'gpa': 3.8, 'year': 2017}>"
      ]
     },
     "execution_count": 16,
     "metadata": {},
     "output_type": "execute_result"
    }
   ],
   "source": [
    "db[\"Students\"][\"katechopin\"]"
   ]
  },
  {
   "attachments": {},
   "cell_type": "markdown",
   "metadata": {},
   "source": [
    "### Removendo documentos com AQL"
   ]
  },
  {
   "attachments": {},
   "cell_type": "markdown",
   "metadata": {},
   "source": [
    "Por fim, você também pode remover documentos do ArangoDB usando declarações `REMOVE`. Por exemplo, imagine que este ano de alunos terminou e se formou, você deseja removê-los do banco de dados. Você pode usar a propriedade `year` para diferenciar entre diferentes classes de alunos, o que permite que você use um cláusula `FILTER` para manter alguns e remover outros."
   ]
  },
  {
   "cell_type": "code",
   "execution_count": 17,
   "metadata": {},
   "outputs": [],
   "source": [
    "bind = {\"@collection\": \"Students\"}\n",
    "aql = \"\"\"\n",
    "FOR x IN @@collection\n",
    "   FILTER x.year == 2017\n",
    "   REMOVE x IN @@collection\n",
    "     LET removed = OLD RETURN removed\n",
    "\"\"\"\n",
    "queryResult = db.AQLQuery(aql, bindVars=bind)"
   ]
  },
  {
   "attachments": {},
   "cell_type": "markdown",
   "metadata": {},
   "source": [
    "A condição `FILTER` apenas itera sobre documentos que correspondem à condição. A declaração `REMOVE x IN` exclui os documentos ( correspondentes a essa condição ). O `@@collection` ( observe o `@@`), define a variável vinculada para o nome da coleção.\n",
    "\n",
    "O valor de retorno fornecido por `AQLQuery()` preserva os documentos antigos. Portanto, se você consultá-lo diretamente, ele mostrará os dados."
   ]
  },
  {
   "cell_type": "code",
   "execution_count": 18,
   "metadata": {},
   "outputs": [
    {
     "data": {
      "text/plain": [
       "ArangoDoc '_id: Students/oscarwilde, _key: oscarwilde, _rev: _f3sm6D----': <store: {'name': 'Oscar Wilde', 'gpa': 3.5, 'year': 2017}>"
      ]
     },
     "execution_count": 18,
     "metadata": {},
     "output_type": "execute_result"
    }
   ],
   "source": [
    "queryResult[0]"
   ]
  },
  {
   "attachments": {},
   "cell_type": "markdown",
   "metadata": {},
   "source": [
    "Se você tentar recuperar o documento do banco de dados, o ArangoDB retornará um erro."
   ]
  },
  {
   "cell_type": "code",
   "execution_count": 19,
   "metadata": {},
   "outputs": [
    {
     "ename": "DocumentNotFoundError",
     "evalue": "Unable to find document with _key: williamfaulkner. Errors: {'code': 404, 'error': True, 'errorMessage': 'document not found', 'errorNum': 1202}",
     "output_type": "error",
     "traceback": [
      "\u001b[1;31m---------------------------------------------------------------------------\u001b[0m",
      "\u001b[1;31mDocumentNotFoundError\u001b[0m                     Traceback (most recent call last)",
      "\u001b[1;32mc:\\Users\\rayan\\Documents\\python-with-arangodb\\arangodb.ipynb Cell 53\u001b[0m in \u001b[0;36m1\n\u001b[1;32m----> <a href='vscode-notebook-cell:/c%3A/Users/rayan/Documents/python-with-arangodb/arangodb.ipynb#Y110sZmlsZQ%3D%3D?line=0'>1</a>\u001b[0m db[\u001b[39m\"\u001b[39m\u001b[39mStudents\u001b[39m\u001b[39m\"\u001b[39m][\u001b[39m\"\u001b[39m\u001b[39mwilliamfaulkner\u001b[39m\u001b[39m\"\u001b[39m]\n",
      "File \u001b[1;32mc:\\Users\\rayan\\AppData\\Local\\Programs\\Python\\Python310\\lib\\site-packages\\pyArango\\collection.py:837\u001b[0m, in \u001b[0;36mCollection.__getitem__\u001b[1;34m(self, key)\u001b[0m\n\u001b[0;32m    835\u001b[0m \u001b[39m\"\"\"returns a document from the cache. If it's not there, fetches it from the db and caches it first. If the cache is not activated this is equivalent to fetchDocument( rawResults=False)\"\"\"\u001b[39;00m\n\u001b[0;32m    836\u001b[0m \u001b[39mif\u001b[39;00m \u001b[39mself\u001b[39m\u001b[39m.\u001b[39mdocumentCache \u001b[39mis\u001b[39;00m \u001b[39mNone\u001b[39;00m:\n\u001b[1;32m--> 837\u001b[0m     \u001b[39mreturn\u001b[39;00m \u001b[39mself\u001b[39;49m\u001b[39m.\u001b[39;49mfetchDocument(key, rawResults \u001b[39m=\u001b[39;49m \u001b[39mFalse\u001b[39;49;00m)\n\u001b[0;32m    838\u001b[0m \u001b[39mtry\u001b[39;00m:\n\u001b[0;32m    839\u001b[0m     \u001b[39mreturn\u001b[39;00m \u001b[39mself\u001b[39m\u001b[39m.\u001b[39mdocumentCache[key]\n",
      "File \u001b[1;32mc:\\Users\\rayan\\AppData\\Local\\Programs\\Python\\Python310\\lib\\site-packages\\pyArango\\collection.py:679\u001b[0m, in \u001b[0;36mCollection.fetchDocument\u001b[1;34m(self, key, rawResults, rev)\u001b[0m\n\u001b[0;32m    677\u001b[0m     \u001b[39mreturn\u001b[39;00m \u001b[39mself\u001b[39m\u001b[39m.\u001b[39mdocumentClass(\u001b[39mself\u001b[39m, r\u001b[39m.\u001b[39mjson(), on_load_validation\u001b[39m=\u001b[39m\u001b[39mself\u001b[39m\u001b[39m.\u001b[39m_validation[\u001b[39m\"\u001b[39m\u001b[39mon_load\u001b[39m\u001b[39m\"\u001b[39m])\n\u001b[0;32m    678\u001b[0m \u001b[39melif\u001b[39;00m r\u001b[39m.\u001b[39mstatus_code \u001b[39m==\u001b[39m \u001b[39m404\u001b[39m :\n\u001b[1;32m--> 679\u001b[0m     \u001b[39mraise\u001b[39;00m DocumentNotFoundError(\u001b[39m\"\u001b[39m\u001b[39mUnable to find document with _key: \u001b[39m\u001b[39m%s\u001b[39;00m\u001b[39m\"\u001b[39m \u001b[39m%\u001b[39m key, r\u001b[39m.\u001b[39mjson())\n\u001b[0;32m    680\u001b[0m \u001b[39mraise\u001b[39;00m DocumentNotFoundError(\u001b[39m\"\u001b[39m\u001b[39mUnable to find document with _key: \u001b[39m\u001b[39m%s\u001b[39;00m\u001b[39m, response: \u001b[39m\u001b[39m%s\u001b[39;00m\u001b[39m\"\u001b[39m \u001b[39m%\u001b[39m (key, r\u001b[39m.\u001b[39mjson()), r\u001b[39m.\u001b[39mjson())\n",
      "\u001b[1;31mDocumentNotFoundError\u001b[0m: Unable to find document with _key: williamfaulkner. Errors: {'code': 404, 'error': True, 'errorMessage': 'document not found', 'errorNum': 1202}"
     ]
    }
   ],
   "source": [
    "db[\"Students\"][\"williamfaulkner\"]"
   ]
  }
 ],
 "metadata": {
  "kernelspec": {
   "display_name": "Python 3",
   "language": "python",
   "name": "python3"
  },
  "language_info": {
   "codemirror_mode": {
    "name": "ipython",
    "version": 3
   },
   "file_extension": ".py",
   "mimetype": "text/x-python",
   "name": "python",
   "nbconvert_exporter": "python",
   "pygments_lexer": "ipython3",
   "version": "3.10.7"
  },
  "orig_nbformat": 4
 },
 "nbformat": 4,
 "nbformat_minor": 2
}
