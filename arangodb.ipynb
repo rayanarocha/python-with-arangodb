{
 "cells": [
  {
   "attachments": {},
   "cell_type": "markdown",
   "metadata": {},
   "source": [
    "### 1 Preparação do ambiente"
   ]
  },
  {
   "cell_type": "code",
   "execution_count": 1,
   "metadata": {},
   "outputs": [
    {
     "name": "stdout",
     "output_type": "stream",
     "text": [
      "Plataforma usada no experimento\n",
      "========================================\n",
      "Jupyter Notebook no VSCode\n",
      "PRocessaor: Intel64 Family 6 Model 142 Stepping 10, GenuineIntel\n",
      "SO: Windows\n"
     ]
    }
   ],
   "source": [
    "import platform\n",
    "print('Plataforma usada no experimento')\n",
    "print('='*40)\n",
    "\n",
    "print('Jupyter Notebook no VSCode')\n",
    "print(f'Processaor: {platform.processor()}')\n",
    "print(f'SO: {platform.system()}')"
   ]
  },
  {
   "cell_type": "code",
   "execution_count": 2,
   "metadata": {},
   "outputs": [],
   "source": [
    "%%capture\n",
    "!git clone https://github.com/joerg84/ArandoDBUniversity.git\n",
    "!rsync -av ArangoDBUniversity/ ./ --exclude.git\n",
    "!pip3 install pyarango \n",
    "!pip3 install \"python-arango>=5.0\""
   ]
  },
  {
   "cell_type": "code",
   "execution_count": 4,
   "metadata": {},
   "outputs": [],
   "source": [
    "import json\n",
    "import requests\n",
    "import sys\n",
    "#import oasis\n",
    "import time \n",
    "\n",
    "from pyArango.connection import *\n",
    "conn = Connection(username=\"root\", password=\"1234\")"
   ]
  },
  {
   "attachments": {},
   "cell_type": "markdown",
   "metadata": {},
   "source": [
    "### Criando e abrindo bancos de dados"
   ]
  },
  {
   "attachments": {},
   "cell_type": "markdown",
   "metadata": {},
   "source": [
    "Com uma conexão com o ArangoDB Server, você pode abrir ou criar um banco de dados no servidor e começar a operar nele. O `createDatabase()` método na conexão do servidor lida com as duas operações, retornando um `Database` instância."
   ]
  },
  {
   "cell_type": "code",
   "execution_count": 5,
   "metadata": {},
   "outputs": [],
   "source": [
    "db = conn.createDatabase(name=\"school\")"
   ]
  },
  {
   "attachments": {},
   "cell_type": "markdown",
   "metadata": {},
   "source": [
    "Quando o `school` o banco de dados não existe, o pyArango o cria na conexão do servidor. Quando existe, ele tenta abrir o banco de dados. Você também pode abrir um banco de dados existente usando seu nome como uma chave na conexão do servidor. Por exemplo,"
   ]
  },
  {
   "cell_type": "code",
   "execution_count": 7,
   "metadata": {},
   "outputs": [
    {
     "data": {
      "text/plain": [
       "ArangoDB database: school"
      ]
     },
     "execution_count": 7,
     "metadata": {},
     "output_type": "execute_result"
    }
   ],
   "source": [
    "db = conn[\"school\"]\n",
    "db"
   ]
  },
  {
   "cell_type": "markdown",
   "metadata": {},
   "source": [
    "### Criando coleções"
   ]
  },
  {
   "attachments": {},
   "cell_type": "markdown",
   "metadata": {},
   "source": [
    "O ArangoDB agrupa documentos e arestas em coleções. Isso é semelhante ao conceito de tabelas nos bancos de dados relacionais, mas com a principal diferença de que as coleções são sem esquema.\n",
    "\n",
    "No pyArango, você pode criar uma coleção chamando o método `createCollection()` em um determinado banco de dados. Por exemplo, na seção acima, você criou um banco de dados `school`. Você pode querer uma coleção nesse banco de dados para os alunos."
   ]
  },
  {
   "cell_type": "code",
   "execution_count": 9,
   "metadata": {},
   "outputs": [
    {
     "data": {
      "text/plain": [
       "ArangoDB collection name: Students, id: 1885, type: document, status: loaded"
      ]
     },
     "execution_count": 9,
     "metadata": {},
     "output_type": "execute_result"
    }
   ],
   "source": [
    "studentsCollection = db.createCollection(name=\"Students\")\n",
    "db[\"Students\"]"
   ]
  },
  {
   "attachments": {},
   "cell_type": "markdown",
   "metadata": {},
   "source": [
    "### Criando documentos"
   ]
  },
  {
   "attachments": {},
   "cell_type": "markdown",
   "metadata": {},
   "source": [
    "Com o banco de dados e a configuração da coleção, você pode começar a adicionar dados a eles. Continuando a comparação com os bancos de dados relacionais, onde uma coleção é uma tabela, um documento é uma linha nessa tabela. Ao contrário das linhas, no entanto, os documentos são sem esquema. Você pode incluir qualquer arranjo de valores necessário para sua aplicação."
   ]
  },
  {
   "cell_type": "code",
   "execution_count": 10,
   "metadata": {},
   "outputs": [
    {
     "data": {
      "text/plain": [
       "ArangoDoc '_id: None, _key: None, _rev: None': <store: {'firstname': 'Emily', 'lastname': 'Bronte'}>"
      ]
     },
     "execution_count": 10,
     "metadata": {},
     "output_type": "execute_result"
    }
   ],
   "source": [
    "doc1 = studentsCollection.createDocument()\n",
    "doc1[\"name\"] = \"John Smith\"\n",
    "doc1\n",
    "doc2 = studentsCollection.createDocument()\n",
    "doc2[\"firstname\"] = \"Emily\"\n",
    "doc2[\"lastname\"] = \"Bronte\"\n",
    "doc2"
   ]
  },
  {
   "attachments": {},
   "cell_type": "markdown",
   "metadata": {},
   "source": [
    "O documento mostra sua `_id` como *“Nenhum”* porque você ainda não o salvou no ArangoDB. Isso significa que a variável existe no seu código Python, mas não no banco de dados. Construções ArangoDB `_id` valores combinando o nome da coleção com o `_key` valor. Ele também lida com a tarefa para você, você só precisa definir a chave e salvar o documento."
   ]
  },
  {
   "cell_type": "code",
   "execution_count": 11,
   "metadata": {},
   "outputs": [
    {
     "data": {
      "text/plain": [
       "ArangoDoc '_id: Students/johnsmith, _key: johnsmith, _rev: _f3qcavu---': <store: {'name': 'John Smith'}>"
      ]
     },
     "execution_count": 11,
     "metadata": {},
     "output_type": "execute_result"
    }
   ],
   "source": [
    "doc1._key = \"johnsmith\"\n",
    "doc1.save()\n",
    "doc1"
   ]
  },
  {
   "attachments": {},
   "cell_type": "markdown",
   "metadata": {},
   "source": [
    "Em vez de inserir e salvar os dados para todos os alunos manualmente, convém inserir os dados por meio de um loop, em vez de chamadas individuais. Por exemplo,"
   ]
  },
  {
   "cell_type": "code",
   "execution_count": 14,
   "metadata": {},
   "outputs": [
    {
     "ename": "UniqueConstrainViolation",
     "evalue": "unique constraint violated - in index primary of type primary over '_key'; conflicting key: oscarwilde. Errors: {'code': 409, 'error': True, 'errorMessage': \"unique constraint violated - in index primary of type primary over '_key'; conflicting key: oscarwilde\", 'errorNum': 1210}",
     "output_type": "error",
     "traceback": [
      "\u001b[1;31m---------------------------------------------------------------------------\u001b[0m",
      "\u001b[1;31mUniqueConstrainViolation\u001b[0m                  Traceback (most recent call last)",
      "\u001b[1;32mc:\\Users\\rayan\\Documents\\python-with-arangodb\\arangodb.ipynb Cell 19\u001b[0m in \u001b[0;36m1\n\u001b[0;32m      <a href='vscode-notebook-cell:/c%3A/Users/rayan/Documents/python-with-arangodb/arangodb.ipynb#X30sZmlsZQ%3D%3D?line=8'>9</a>\u001b[0m doc[\u001b[39m'\u001b[39m\u001b[39myear\u001b[39m\u001b[39m'\u001b[39m] \u001b[39m=\u001b[39m \u001b[39m2017\u001b[39m\n\u001b[0;32m     <a href='vscode-notebook-cell:/c%3A/Users/rayan/Documents/python-with-arangodb/arangodb.ipynb#X30sZmlsZQ%3D%3D?line=9'>10</a>\u001b[0m doc\u001b[39m.\u001b[39m_key \u001b[39m=\u001b[39m \u001b[39m'\u001b[39m\u001b[39m'\u001b[39m\u001b[39m.\u001b[39mjoin([first, last])\u001b[39m.\u001b[39mlower() \n\u001b[1;32m---> <a href='vscode-notebook-cell:/c%3A/Users/rayan/Documents/python-with-arangodb/arangodb.ipynb#X30sZmlsZQ%3D%3D?line=10'>11</a>\u001b[0m doc\u001b[39m.\u001b[39msave()\n",
      "File \u001b[1;32mc:\\Users\\rayan\\AppData\\Local\\Programs\\Python\\Python310\\lib\\site-packages\\pyArango\\document.py:268\u001b[0m, in \u001b[0;36mDocument.save\u001b[1;34m(self, waitForSync, **docArgs)\u001b[0m\n\u001b[0;32m    263\u001b[0m \u001b[39m\"\"\"Saves the document to the database by either performing a POST (for a new document) or a PUT (complete document overwrite).\u001b[39;00m\n\u001b[0;32m    264\u001b[0m \u001b[39mIf you want to only update the modified fields use the .patch() function.\u001b[39;00m\n\u001b[0;32m    265\u001b[0m \u001b[39mUse docArgs to put things such as 'waitForSync = True' (for a full list cf ArangoDB's doc).\u001b[39;00m\n\u001b[0;32m    266\u001b[0m \u001b[39mIt will only trigger a saving of the document if it has been modified since the last save. If you want to force the saving you can use forceSave()\"\"\"\u001b[39;00m\n\u001b[0;32m    267\u001b[0m payload \u001b[39m=\u001b[39m \u001b[39mself\u001b[39m\u001b[39m.\u001b[39m_store\u001b[39m.\u001b[39mgetStore()\n\u001b[1;32m--> 268\u001b[0m \u001b[39mself\u001b[39m\u001b[39m.\u001b[39m_save(payload, waitForSync \u001b[39m=\u001b[39m \u001b[39mFalse\u001b[39;00m, \u001b[39m*\u001b[39m\u001b[39m*\u001b[39mdocArgs)\n",
      "File \u001b[1;32mc:\\Users\\rayan\\AppData\\Local\\Programs\\Python\\Python310\\lib\\site-packages\\pyArango\\document.py:309\u001b[0m, in \u001b[0;36mDocument._save\u001b[1;34m(self, payload, waitForSync, **docArgs)\u001b[0m\n\u001b[0;32m    307\u001b[0m \u001b[39melse\u001b[39;00m:\n\u001b[0;32m    308\u001b[0m     \u001b[39mif\u001b[39;00m data[\u001b[39m\"\u001b[39m\u001b[39merrorNum\u001b[39m\u001b[39m\"\u001b[39m] \u001b[39m==\u001b[39m \u001b[39m1210\u001b[39m:\n\u001b[1;32m--> 309\u001b[0m         \u001b[39mraise\u001b[39;00m UniqueConstrainViolation(data[\u001b[39m'\u001b[39m\u001b[39merrorMessage\u001b[39m\u001b[39m'\u001b[39m], data)\n\u001b[0;32m    310\u001b[0m     \u001b[39melse\u001b[39;00m:\n\u001b[0;32m    311\u001b[0m         \u001b[39mraise\u001b[39;00m CreationError(data[\u001b[39m'\u001b[39m\u001b[39merrorMessage\u001b[39m\u001b[39m'\u001b[39m], data)\n",
      "\u001b[1;31mUniqueConstrainViolation\u001b[0m: unique constraint violated - in index primary of type primary over '_key'; conflicting key: oscarwilde. Errors: {'code': 409, 'error': True, 'errorMessage': \"unique constraint violated - in index primary of type primary over '_key'; conflicting key: oscarwilde\", 'errorNum': 1210}"
     ]
    }
   ],
   "source": [
    "students = [('Oscar', 'Wilde', 3.5), ('Thomas', 'Hobbes', 3.2), \n",
    "('Mark', 'Twain', 3.0), ('Kate', 'Chopin', 3.8), ('Fyodor', 'Dostoevsky', 3.1), \n",
    "('Jane', 'Austen',3.4), ('Mary', 'Wollstonecraft', 3.7), ('Percy', 'Shelley', 3.5), \n",
    "('William', 'Faulkner', 3.8), ('Charlotte', 'Bronte', 3.0)]\n",
    "for (first, last, gpa) in students:\n",
    "    doc = studentsCollection.createDocument()\n",
    "    doc['name'] = \"%s %s\" % (first, last)\n",
    "    doc['gpa'] = gpa \n",
    "    doc['year'] = 2017\n",
    "    doc._key = ''.join([first, last]).lower() \n",
    "    doc.save()"
   ]
  },
  {
   "attachments": {},
   "cell_type": "markdown",
   "metadata": {},
   "source": [
    "### Leitura de documentos"
   ]
  },
  {
   "attachments": {},
   "cell_type": "markdown",
   "metadata": {},
   "source": [
    "Eventualmente, você precisará acessar documentos no banco de dados. A maneira mais fácil de fazer isso é com o `_key` valor.\n",
    "\n",
    "Por exemplo, o banco de dados da escola agora tem vários alunos. Imagine-o como parte de um aplicativo maior, com mais dados disponíveis sobre cada aluno e você gostaria de verificar o GPA de um aluno em particular:"
   ]
  },
  {
   "cell_type": "code",
   "execution_count": 15,
   "metadata": {},
   "outputs": [
    {
     "name": "stdout",
     "output_type": "stream",
     "text": [
      "Student: Kate Chopin\n",
      "GPA:     3.8\n"
     ]
    }
   ],
   "source": [
    "def report_gpa(document):\n",
    "    print(\"Student: %s\" % document['name'])\n",
    "    print(\"GPA:     %s\" % document['gpa'])\n",
    "kate = studentsCollection['katechopin']\n",
    "report_gpa(kate)"
   ]
  },
  {
   "attachments": {},
   "cell_type": "markdown",
   "metadata": {},
   "source": [
    "### Atualizando documentos"
   ]
  },
  {
   "attachments": {},
   "cell_type": "markdown",
   "metadata": {},
   "source": [
    "Ao ler um documento do ArangoDB em seu aplicativo, você cria uma cópia local do documento. Você pode operar o documento, fazendo as alterações que desejar e depois enviar os resultados para o banco de dados usando o método `save()`.\n",
    "\n",
    "Por exemplo, a cada semestre, à medida que as notas finais são provenientes de suas aulas, você precisa atualizar as médias de notas dos alunos no banco de dados. Como isso acontece com frequência, convém criar uma função específica para lidar com a atualização:"
   ]
  },
  {
   "cell_type": "code",
   "execution_count": 16,
   "metadata": {},
   "outputs": [],
   "source": [
    "def update_gpa(key, new_gpa):\n",
    "    doc = studentsCollection[key]\n",
    "    doc['gpa'] = new_gpa\n",
    "    doc.save()"
   ]
  }
 ],
 "metadata": {
  "kernelspec": {
   "display_name": "Python 3",
   "language": "python",
   "name": "python3"
  },
  "language_info": {
   "codemirror_mode": {
    "name": "ipython",
    "version": 3
   },
   "file_extension": ".py",
   "mimetype": "text/x-python",
   "name": "python",
   "nbconvert_exporter": "python",
   "pygments_lexer": "ipython3",
   "version": "3.10.7"
  },
  "orig_nbformat": 4
 },
 "nbformat": 4,
 "nbformat_minor": 2
}
